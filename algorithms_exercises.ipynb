{
 "cells": [
  {
   "cell_type": "markdown",
   "metadata": {},
   "source": [
    "## Exercise #1"
   ]
  },
  {
   "cell_type": "markdown",
   "metadata": {},
   "source": [
    "Reverse the list below in-place using an in-place algorithm.\n",
    "For extra credit: Reverse the strings at the same time."
   ]
  },
  {
   "cell_type": "code",
   "execution_count": 3,
   "metadata": {},
   "outputs": [
    {
     "name": "stdout",
     "output_type": "stream",
     "text": [
      "IN PLACE\n",
      "['.', 'sentence', 'a', 'is', 'this']\n",
      "alist: ['.', 'sentence', 'a', 'is', 'this']\n"
     ]
    }
   ],
   "source": [
    "words = ['this', 'is', 'a', 'sentence', '.']\n",
    "\n",
    "def reverse_list(alist, id1, id2, id3, id4, id5):\n",
    "    alist[id1], alist[id2], alist[id3], alist[id4], alist[id5] = alist[id5], alist[id4], alist[id3], alist[id2], alist[id1]\n",
    "    return alist\n",
    "\n",
    "print(\"IN PLACE\")\n",
    "print(reverse_list(words, 4,3,2,1,0))\n",
    "print(f'alist: {words}')"
   ]
  },
  {
   "cell_type": "markdown",
   "metadata": {},
   "source": []
  },
  {
   "cell_type": "markdown",
   "metadata": {},
   "source": [
    "## Exercise #2"
   ]
  },
  {
   "cell_type": "markdown",
   "metadata": {},
   "source": [
    "Create a function that counts how many distinct words are in the string below, then outputs a dictionary with the words as the\n",
    "key and the value as the amount of times that word appears in the string.\n",
    "\n",
    "Should output:\n",
    "{'a': 5,\n",
    "'abstract': 1,\n",
    "'an': 3,\n",
    "'array': 2, ... etc..."
   ]
  },
  {
   "cell_type": "code",
   "execution_count": 5,
   "metadata": {},
   "outputs": [
    {
     "name": "stdout",
     "output_type": "stream",
     "text": [
      "in : 1\n",
      "computing, : 1\n",
      "a : 5\n",
      "hash : 4\n",
      "table : 2\n",
      "map : 2\n",
      "is : 1\n",
      "data : 2\n",
      "structure : 2\n",
      "which : 2\n",
      "implements : 1\n",
      "an : 3\n",
      "associative : 1\n",
      "array : 2\n",
      "abstract : 1\n",
      "type, : 1\n",
      "that : 1\n",
      "can : 2\n",
      "keys : 1\n",
      "to : 2\n",
      "values : 1\n",
      "uses : 1\n",
      "function : 1\n",
      "compute : 1\n",
      "index : 1\n",
      "into : 1\n",
      "of : 1\n",
      "buckets : 1\n",
      "or : 1\n",
      "slots : 1\n",
      "from : 1\n",
      "the : 1\n",
      "desired : 1\n",
      "value : 1\n",
      "be : 1\n",
      "found : 1\n"
     ]
    }
   ],
   "source": [
    "a_text = 'In computing, a hash table hash map is a data structure which implements an associative array abstract data type, a structure that can map keys to values. A hash table uses a hash function to compute an index into an array of buckets or slots from which the desired value can be found.'\n",
    "\n",
    "words_dict = {}\n",
    "\n",
    "ind_words = a_text.lower().split()\n",
    "\n",
    "def word_count(words):\n",
    "    if words[-1] == '.':\n",
    "        words = words[0:len(words) - 1]\n",
    "    if words in words_dict:\n",
    "        words_dict[words] += 1\n",
    "    else:\n",
    "        words_dict.update({words: 1})\n",
    "\n",
    "for words in ind_words:\n",
    "    word_count(words)\n",
    "for allKeys in words_dict:\n",
    "    print(f\"{allKeys} : {words_dict[allKeys]}\")\n",
    "\n"
   ]
  }
 ],
 "metadata": {
  "kernelspec": {
   "display_name": "Python 3.9.7 64-bit",
   "language": "python",
   "name": "python3"
  },
  "language_info": {
   "codemirror_mode": {
    "name": "ipython",
    "version": 3
   },
   "file_extension": ".py",
   "mimetype": "text/x-python",
   "name": "python",
   "nbconvert_exporter": "python",
   "pygments_lexer": "ipython3",
   "version": "3.9.7"
  },
  "orig_nbformat": 4,
  "vscode": {
   "interpreter": {
    "hash": "aee8b7b246df8f9039afb4144a1f6fd8d2ca17a180786b69acc140d282b71a49"
   }
  }
 },
 "nbformat": 4,
 "nbformat_minor": 2
}
